{
 "cells": [
  {
   "cell_type": "code",
   "execution_count": 1,
   "id": "21bfcccf",
   "metadata": {},
   "outputs": [],
   "source": [
    "# Library Import\n",
    "\n",
    "import os\n",
    "import sys"
   ]
  },
  {
   "cell_type": "code",
   "execution_count": 2,
   "id": "dae2165b",
   "metadata": {},
   "outputs": [
    {
     "data": {
      "text/plain": [
       "'f:\\\\My_Design\\\\Data_Science\\\\Data Science\\\\Data Science Notes\\\\Machine Learning\\\\Projects\\\\End-to-End Projects\\\\End-to-End-Machine-Learning-Project-with-Deployment\\\\research'"
      ]
     },
     "execution_count": 2,
     "metadata": {},
     "output_type": "execute_result"
    }
   ],
   "source": [
    "%pwd"
   ]
  },
  {
   "cell_type": "code",
   "execution_count": 3,
   "id": "94953a8a",
   "metadata": {},
   "outputs": [],
   "source": [
    "os.chdir(\"../\")"
   ]
  },
  {
   "cell_type": "code",
   "execution_count": 4,
   "id": "cefafafd",
   "metadata": {},
   "outputs": [
    {
     "data": {
      "text/plain": [
       "'f:\\\\My_Design\\\\Data_Science\\\\Data Science\\\\Data Science Notes\\\\Machine Learning\\\\Projects\\\\End-to-End Projects\\\\End-to-End-Machine-Learning-Project-with-Deployment'"
      ]
     },
     "execution_count": 4,
     "metadata": {},
     "output_type": "execute_result"
    }
   ],
   "source": [
    "%pwd"
   ]
  },
  {
   "cell_type": "code",
   "execution_count": null,
   "id": "6b3adde6",
   "metadata": {},
   "outputs": [],
   "source": [
    "# perparing the data entities [config_entity]\n",
    "\n",
    "from dataclasses import dataclass\n",
    "from pathlib import Path\n",
    "\n",
    "# Below is the data class for data ingestion configuration\n",
    "# This class is used to define the configuration for data ingestion in a machine learning pipeline.\n",
    "@dataclass(frozen=True)\n",
    "class DataIngestionConfig:\n",
    "    \"\"\"Data Ingestion Configuration\"\"\"\n",
    "    # Define the attributes of the class\n",
    "    root_dir: Path\n",
    "    source_URL: str\n",
    "    local_data_file: Path\n",
    "    unzip_dir: Path"
   ]
  },
  {
   "cell_type": "code",
   "execution_count": 8,
   "id": "d9b14057",
   "metadata": {},
   "outputs": [],
   "source": [
    "from ml_project.constants import *\n",
    "from ml_project.utils.common import read_yaml, create_directories"
   ]
  },
  {
   "cell_type": "code",
   "execution_count": 9,
   "id": "0e7ad13a",
   "metadata": {},
   "outputs": [],
   "source": [
    "class ConfigurationManager:\n",
    "    \"\"\"Configuration Manager\"\"\"\n",
    "    def __init__(\n",
    "        self, \n",
    "        config_filepath = CONFIG_FILE_PATH, \n",
    "        params_filepath = PARAMS_FILE_PATH,\n",
    "        schema_filepath = SCHEMA_FILE_PATH):\n",
    "\n",
    "        \"\"\"Initialize Configuration Manager\"\"\"\n",
    "        # Initialize the ConfigurationManager with file paths for configuration, parameters, and schema.\n",
    "        self.config = read_yaml(config_filepath)\n",
    "        self.params = read_yaml(params_filepath)\n",
    "        self.schema = read_yaml(schema_filepath)\n",
    "\n",
    "\n",
    "\n",
    "        # Create directories for artifacts and data ingestion\n",
    "        create_directories([self.config.artifacts_root])  # Create the artifacts root directory\n",
    "\n",
    "    def get_data_ingestion_config(self) -> DataIngestionConfig:\n",
    "        \"\"\"Get Data Ingestion Configuration\"\"\"\n",
    "        config = self.config.data_ingestion\n",
    "        create_directories([config.root_dir])  # Create the data ingestion root directory\n",
    "\n",
    "        data_ingestion_config = DataIngestionConfig(\n",
    "            root_dir=config.root_dir,\n",
    "            source_URL=config.source_URL,\n",
    "            local_data_file=config.local_data_file,\n",
    "            unzip_dir=config.unzip_dir\n",
    "        )\n",
    "        return data_ingestion_config"
   ]
  },
  {
   "cell_type": "code",
   "execution_count": 10,
   "id": "41e5c444",
   "metadata": {},
   "outputs": [],
   "source": [
    "import os\n",
    "import urllib.request as request\n",
    "import zipfile\n",
    "from ml_project import logger\n",
    "from ml_project.utils.common import get_size"
   ]
  },
  {
   "cell_type": "code",
   "execution_count": 25,
   "id": "bd05f4ec",
   "metadata": {},
   "outputs": [],
   "source": [
    "class DataIngestion:\n",
    "    \"\"\"Data Ingestion\"\"\"\n",
    "    def __init__(self, config: DataIngestionConfig):\n",
    "        \"\"\"Initialize Data Ingestion\"\"\"\n",
    "        self.config = config\n",
    "\n",
    "\n",
    "    def download_file(self):\n",
    "        \"\"\"Download file from URL\"\"\"\n",
    "        if not os.path.exists(self.config.local_data_file):\n",
    "\n",
    "            # Download the file from the source URL to the local data file path\n",
    "            request.urlretrieve(self.config.source_URL, self.config.local_data_file)\n",
    "            logger.info(f\"Downloading file from {self.config.source_URL} to {self.config.local_data_file}\")\n",
    "            logger.info(f\"Downloaded file size: {get_size(Path(self.config.local_data_file))} bytes\")\n",
    "        else:\n",
    "            logger.info(f\"File already exists at {self.config.local_data_file} of size: {get_size(Path(self.config.local_data_file))} bytes. Skipping download.\")\n",
    "\n",
    "\n",
    "    def extract_zip_file(self):\n",
    "            \n",
    "        \"\"\"Extract zip file\"\"\"\n",
    "        unzip_path = self.config.unzip_dir\n",
    "        os.makedirs(unzip_path, exist_ok=True)\n",
    "        with zipfile.ZipFile(self.config.local_data_file, 'r') as zip_ref:\n",
    "            zip_ref.extractall(unzip_path)\n",
    "        logger.info(f\"Extracted zip file to {unzip_path}\")\n",
    "        return unzip_path\n"
   ]
  },
  {
   "cell_type": "code",
   "execution_count": 27,
   "id": "c4073aa0",
   "metadata": {},
   "outputs": [
    {
     "name": "stdout",
     "output_type": "stream",
     "text": [
      "[2025-04-30 00:28:07,277: INFO: common: yaml file: config\\config.yaml loaded successfully]\n",
      "[2025-04-30 00:28:07,279: INFO: common: yaml file: params.yaml loaded successfully]\n",
      "[2025-04-30 00:28:07,282: INFO: common: yaml file: schema.yaml loaded successfully]\n",
      "[2025-04-30 00:28:07,285: INFO: common: created directory at: artifacts]\n",
      "[2025-04-30 00:28:07,287: INFO: common: created directory at: artifacts/data_ingestion]\n",
      "[2025-04-30 00:28:07,290: INFO: 3877789902: File already exists at artifacts/data_ingestion/data.zip of size: ~ 23 KB bytes. Skipping download.]\n",
      "[2025-04-30 00:28:07,297: INFO: 3877789902: Extracted zip file to artifacts/data_ingestion]\n"
     ]
    }
   ],
   "source": [
    "try:\n",
    "    \"\"\"from ml_project import logger\n",
    "    from ml_project.config.configuration import ConfigurationManager\n",
    "    from ml_project.components.data_ingestion import DataIngestion\"\"\"\n",
    "\n",
    "    config = ConfigurationManager()\n",
    "    data_ingestion_config = config.get_data_ingestion_config()\n",
    "    data_ingestion = DataIngestion(data_ingestion_config)\n",
    "    data_ingestion.download_file()\n",
    "    data_ingestion.extract_zip_file()\n",
    "except Exception as e:\n",
    "    raise e"
   ]
  },
  {
   "cell_type": "code",
   "execution_count": null,
   "id": "74fc20c4",
   "metadata": {},
   "outputs": [],
   "source": []
  }
 ],
 "metadata": {
  "kernelspec": {
   "display_name": ".venv",
   "language": "python",
   "name": "python3"
  },
  "language_info": {
   "codemirror_mode": {
    "name": "ipython",
    "version": 3
   },
   "file_extension": ".py",
   "mimetype": "text/x-python",
   "name": "python",
   "nbconvert_exporter": "python",
   "pygments_lexer": "ipython3",
   "version": "3.11.2"
  }
 },
 "nbformat": 4,
 "nbformat_minor": 5
}

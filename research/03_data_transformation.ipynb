{
 "cells": [
  {
   "cell_type": "code",
   "execution_count": 2,
   "id": "cf6af534",
   "metadata": {},
   "outputs": [
    {
     "data": {
      "text/plain": [
       "'f:\\\\My_Design\\\\Data_Science\\\\Data Science\\\\Data Science Notes\\\\Machine Learning\\\\Projects\\\\End-to-End Projects\\\\End-to-End-Machine-Learning-Project-with-Deployment\\\\research'"
      ]
     },
     "execution_count": 2,
     "metadata": {},
     "output_type": "execute_result"
    }
   ],
   "source": [
    "# Library Import\n",
    "\n",
    "import os\n",
    "import sys\n",
    "%pwd\n"
   ]
  },
  {
   "cell_type": "code",
   "execution_count": 3,
   "id": "bfb44078",
   "metadata": {},
   "outputs": [],
   "source": [
    "os.chdir(\"../\")"
   ]
  },
  {
   "cell_type": "code",
   "execution_count": 4,
   "id": "c35f9afb",
   "metadata": {},
   "outputs": [
    {
     "data": {
      "text/plain": [
       "'f:\\\\My_Design\\\\Data_Science\\\\Data Science\\\\Data Science Notes\\\\Machine Learning\\\\Projects\\\\End-to-End Projects\\\\End-to-End-Machine-Learning-Project-with-Deployment'"
      ]
     },
     "execution_count": 4,
     "metadata": {},
     "output_type": "execute_result"
    }
   ],
   "source": [
    "%pwd"
   ]
  },
  {
   "cell_type": "code",
   "execution_count": 5,
   "id": "e079ced8",
   "metadata": {},
   "outputs": [],
   "source": [
    "# Updating the Data Transformation Entity\n",
    "\n",
    "# Perparing the data validation entities [config_entity]\n",
    "\n",
    "from dataclasses import dataclass\n",
    "from pathlib import Path\n",
    "\n",
    "# Below is the data class for data Validation configuration\n",
    "# This class is used to define the configuration for data Validation in a machine learning pipeline.\n",
    "@dataclass(frozen=True)\n",
    "class DataTransformationConfig:\n",
    "    \"\"\"Data Transformation Configuration\"\"\"\n",
    "    # Define the attributes of the class\n",
    "    root_dir: Path\n",
    "    data_path: Path"
   ]
  },
  {
   "cell_type": "code",
   "execution_count": 6,
   "id": "ccc6db4b",
   "metadata": {},
   "outputs": [],
   "source": [
    "from ml_project.constants import *\n",
    "from ml_project.utils.common import read_yaml, create_directories"
   ]
  },
  {
   "cell_type": "code",
   "execution_count": 7,
   "id": "159df657",
   "metadata": {},
   "outputs": [],
   "source": [
    "class ConfigurationManager:\n",
    "    \"\"\"Configuration Manager\"\"\"\n",
    "    def __init__(\n",
    "        self, \n",
    "        config_filepath = CONFIG_FILE_PATH, \n",
    "        params_filepath = PARAMS_FILE_PATH,\n",
    "        schema_filepath = SCHEMA_FILE_PATH):\n",
    "\n",
    "        \"\"\"Initialize Configuration Manager\"\"\"\n",
    "        # Initialize the ConfigurationManager with file paths for configuration, parameters, and schema.\n",
    "        self.config = read_yaml(config_filepath)\n",
    "        self.params = read_yaml(params_filepath)\n",
    "        self.schema = read_yaml(schema_filepath)\n",
    "\n",
    "\n",
    "\n",
    "        # Create directories for artifacts and data ingestion\n",
    "        create_directories([self.config.artifacts_root])  # Create the artifacts root directory\n",
    "\n",
    "    def get_data_tranformation_config(self) -> DataTransformationConfig:\n",
    "        \"\"\"Get Data Transformation Configuration\"\"\"\n",
    "        config = self.config.data_transformation\n",
    "\n",
    "        create_directories([config.root_dir])  # Create the data transformation root directory\n",
    "\n",
    "        data_transformation_config = DataTransformationConfig(\n",
    "            root_dir=config.root_dir,\n",
    "            data_path=config.data_path,\n",
    "        )\n",
    "        \n",
    "        return data_transformation_config"
   ]
  },
  {
   "cell_type": "code",
   "execution_count": 8,
   "id": "651f4712",
   "metadata": {},
   "outputs": [],
   "source": [
    "import os\n",
    "import pandas as pd\n",
    "import numpy as np\n",
    "from ml_project import logger\n",
    "from sklearn.model_selection import train_test_split\n",
    "\n",
    "# Our dataset is already clean and in the numeric form .\n",
    "# Now for the time being we will only be doing the train test split.\n",
    "# But in case of your project you can add more transformation steps like scaling, PCA, encoding, etc."
   ]
  },
  {
   "cell_type": "code",
   "execution_count": null,
   "id": "e00da448",
   "metadata": {},
   "outputs": [],
   "source": [
    "class DataTransformation:\n",
    "    \"\"\"Data Transformation\"\"\"\n",
    "    def __init__(self, config: DataTransformationConfig):\n",
    "        \"\"\"Initialize Data Transformation\"\"\"\n",
    "        self.config = config\n",
    "\n",
    "    \n",
    "    def train_test_split(self):\n",
    "        \"\"\"Train Test Split\"\"\"\n",
    "        logger.info(\"Splitting data into train and test sets\")\n",
    "        # Read the data from the data path\n",
    "        data = pd.read_csv(self.config.data_path)\n",
    "        \n",
    "        # Split the data into train and test sets\n",
    "        train, test = train_test_split(data, test_size=0.2, random_state=42) # 80% train, 20% test\n",
    "        \n",
    "        # Save the train and test sets to CSV files\n",
    "        train.to_csv(os.path.join(self.config.root_dir, \"train.csv\"), index=False)\n",
    "        test.to_csv(os.path.join(self.config.root_dir, \"test.csv\"), index=False)\n",
    "        \n",
    "        logger.info(\"Data split completed\")\n",
    "        logger.info(f\"Train data saved to {os.path.join(self.config.root_dir, 'train.csv')}\")\n",
    "        logger.info(f\"Test data saved to {os.path.join(self.config.root_dir, 'test.csv')}\")\n",
    "\n",
    "        print(train.shape)\n",
    "        print(test.shape)"
   ]
  },
  {
   "cell_type": "code",
   "execution_count": 16,
   "id": "fc48174f",
   "metadata": {},
   "outputs": [
    {
     "data": {
      "text/plain": [
       "'with open(Path(\"artifacts/data_validation/status.txt\"), \\'r\\') as file:\\n    status = file.read().split(\" \")[-1]\\n\\n    if status == \"True\":\\n        print(\"Data Validation Passed\")\\n    else:\\n        print(\"Data Validation Failed\")'"
      ]
     },
     "execution_count": 16,
     "metadata": {},
     "output_type": "execute_result"
    }
   ],
   "source": [
    "\"\"\"with open(Path(\"artifacts/data_validation/status.txt\"), 'r') as file:\n",
    "    status = file.read().split(\" \")[-1]\n",
    "    \n",
    "    if status == \"True\":\n",
    "        print(\"Data Validation Passed\")\n",
    "    else:\n",
    "        print(\"Data Validation Failed\")\"\"\""
   ]
  },
  {
   "cell_type": "code",
   "execution_count": 10,
   "id": "6c8715af",
   "metadata": {},
   "outputs": [
    {
     "name": "stdout",
     "output_type": "stream",
     "text": [
      "[2025-05-06 22:35:44,225: INFO: common: yaml file: config\\config.yaml loaded successfully]\n",
      "[2025-05-06 22:35:44,253: INFO: common: yaml file: params.yaml loaded successfully]\n",
      "[2025-05-06 22:35:44,587: INFO: common: yaml file: schema.yaml loaded successfully]\n",
      "[2025-05-06 22:35:44,591: INFO: common: created directory at: artifacts]\n",
      "[2025-05-06 22:35:44,594: INFO: common: created directory at: artifacts/data_transformation]\n",
      "[2025-05-06 22:35:44,597: INFO: 1085536990: Splitting data into train and test sets]\n",
      "[2025-05-06 22:35:44,938: INFO: 1085536990: Data split completed]\n",
      "[2025-05-06 22:35:44,940: INFO: 1085536990: Train data saved to artifacts/data_transformation\\train.csv]\n",
      "[2025-05-06 22:35:44,943: INFO: 1085536990: Test data saved to artifacts/data_transformation\\test.csv]\n",
      "(1279, 12)\n",
      "(320, 12)\n",
      "Data transformation completed successfully.\n"
     ]
    }
   ],
   "source": [
    "try:\n",
    "    config = ConfigurationManager()\n",
    "    data_transformation_config = config.get_data_tranformation_config()\n",
    "    data_transformation = DataTransformation(data_transformation_config)\n",
    "    data_transformation.train_test_split()\n",
    "    print(\"Data transformation completed successfully.\")\n",
    "except Exception as e:\n",
    "    raise e"
   ]
  },
  {
   "cell_type": "code",
   "execution_count": null,
   "id": "8e5992b9",
   "metadata": {},
   "outputs": [],
   "source": []
  }
 ],
 "metadata": {
  "kernelspec": {
   "display_name": ".venv",
   "language": "python",
   "name": "python3"
  },
  "language_info": {
   "codemirror_mode": {
    "name": "ipython",
    "version": 3
   },
   "file_extension": ".py",
   "mimetype": "text/x-python",
   "name": "python",
   "nbconvert_exporter": "python",
   "pygments_lexer": "ipython3",
   "version": "3.11.2"
  }
 },
 "nbformat": 4,
 "nbformat_minor": 5
}

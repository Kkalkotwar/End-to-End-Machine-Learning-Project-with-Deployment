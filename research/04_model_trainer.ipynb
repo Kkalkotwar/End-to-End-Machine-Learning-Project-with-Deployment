{
 "cells": [
  {
   "cell_type": "code",
   "execution_count": 1,
   "id": "31d6df9e",
   "metadata": {},
   "outputs": [
    {
     "data": {
      "text/plain": [
       "'f:\\\\My_Design\\\\Data_Science\\\\Data Science\\\\Data Science Notes\\\\Machine Learning\\\\Projects\\\\End-to-End Projects\\\\End-to-End-Machine-Learning-Project-with-Deployment\\\\research'"
      ]
     },
     "execution_count": 1,
     "metadata": {},
     "output_type": "execute_result"
    }
   ],
   "source": [
    "# Library Import\n",
    "\n",
    "import os\n",
    "import sys\n",
    "%pwd"
   ]
  },
  {
   "cell_type": "code",
   "execution_count": 2,
   "id": "c8f496cd",
   "metadata": {},
   "outputs": [],
   "source": [
    "os.chdir(\"../\")"
   ]
  },
  {
   "cell_type": "code",
   "execution_count": 3,
   "id": "f31a763d",
   "metadata": {},
   "outputs": [
    {
     "data": {
      "text/plain": [
       "'f:\\\\My_Design\\\\Data_Science\\\\Data Science\\\\Data Science Notes\\\\Machine Learning\\\\Projects\\\\End-to-End Projects\\\\End-to-End-Machine-Learning-Project-with-Deployment'"
      ]
     },
     "execution_count": 3,
     "metadata": {},
     "output_type": "execute_result"
    }
   ],
   "source": [
    "%pwd"
   ]
  },
  {
   "cell_type": "code",
   "execution_count": 4,
   "id": "f54d9248",
   "metadata": {},
   "outputs": [],
   "source": [
    "# Updating the Data Transformation Entity\n",
    "\n",
    "# Perparing the data validation entities [config_entity]\n",
    "\n",
    "from dataclasses import dataclass\n",
    "from pathlib import Path\n",
    "\n",
    "# Below is the data class for data Validation configuration\n",
    "# This class is used to define the configuration for data Validation in a machine learning pipeline.\n",
    "@dataclass(frozen=True)\n",
    "class ModelTrainerConfig:\n",
    "    \"\"\"Model Training Configuration\"\"\"\n",
    "    # Define the attributes of the class\n",
    "    root_dir: Path\n",
    "    train_data_path: Path\n",
    "    test_data_path: Path\n",
    "    model_name: str\n",
    "    alpha: float\n",
    "    l1_ratio: float\n",
    "    random_state: int\n",
    "    target_column: str"
   ]
  },
  {
   "cell_type": "code",
   "execution_count": 5,
   "id": "4f68ff84",
   "metadata": {},
   "outputs": [],
   "source": [
    "from ml_project.constants import *\n",
    "from ml_project.utils.common import read_yaml, create_directories"
   ]
  },
  {
   "cell_type": "code",
   "execution_count": null,
   "id": "1e0cada1",
   "metadata": {},
   "outputs": [],
   "source": [
    "class ConfigurationManager:\n",
    "    \"\"\"Configuration Manager\"\"\"\n",
    "    def __init__(\n",
    "        self, \n",
    "        config_filepath = CONFIG_FILE_PATH, \n",
    "        params_filepath = PARAMS_FILE_PATH,\n",
    "        schema_filepath = SCHEMA_FILE_PATH):\n",
    "\n",
    "        \"\"\"Initialize Configuration Manager\"\"\"\n",
    "        # Initialize the ConfigurationManager with file paths for configuration, parameters, and schema.\n",
    "        self.config = read_yaml(config_filepath)\n",
    "        self.params = read_yaml(params_filepath)\n",
    "        self.schema = read_yaml(schema_filepath)\n",
    "\n",
    "\n",
    "\n",
    "        # Create directories for artifacts and data ingestion\n",
    "        create_directories([self.config.artifacts_root])  # Create the artifacts root directory\n",
    "\n",
    "    def get_model_trainer_config(self) -> ModelTrainerConfig:\n",
    "        \"\"\"Get Model Trainer Configuration\"\"\"\n",
    "        config = self.config.model_trainer\n",
    "        params = self.params.ElasticNet\n",
    "        schema = self.schema.TARGET_COLUMN\n",
    "        \n",
    "        model_trainer_config = ModelTrainerConfig(\n",
    "            root_dir=config.root_dir,\n",
    "            train_data_path=config.train_data_path,\n",
    "            test_data_path=config.test_data_path,\n",
    "            model_name=config.model_name,\n",
    "            alpha=params.alpha,\n",
    "            l1_ratio=params.l1_ratio,\n",
    "            random_state=params.random_state,\n",
    "            target_column=schema.name,\n",
    "        )\n",
    "        \n",
    "        return model_trainer_config"
   ]
  },
  {
   "cell_type": "code",
   "execution_count": 17,
   "id": "b7cede88",
   "metadata": {},
   "outputs": [],
   "source": [
    "# COMPONENT 1: Model Trainer Component\n",
    "# This component is responsible for training the machine learning model using the provided training data.\n",
    "\n",
    "import os\n",
    "from pathlib import Path\n",
    "import pandas as pd\n",
    "import numpy as np\n",
    "from ml_project import logger\n",
    "from sklearn.linear_model import ElasticNet\n",
    "import joblib"
   ]
  },
  {
   "cell_type": "code",
   "execution_count": null,
   "id": "376a650f",
   "metadata": {},
   "outputs": [],
   "source": [
    "class ModelTrainer:\n",
    "    \"\"\"Model Trainer\"\"\"\n",
    "    def __init__(self, config: ModelTrainerConfig):\n",
    "        \"\"\"Initialize Model Trainer\"\"\"\n",
    "        self.config = config\n",
    "\n",
    "    \n",
    "    def train(self):\n",
    "        \"\"\"Train the model\"\"\"\n",
    "        # Load the training data\n",
    "        train_data = pd.read_csv(self.config.train_data_path)\n",
    "        test_data = pd.read_csv(self.config.test_data_path)\n",
    "\n",
    "        # Separate features and target variable from training and testing data\n",
    "        X_train = train_data.drop(columns=[self.config.target_column], axis=1)\n",
    "        y_train = train_data[self.config.target_column]\n",
    "        X_test = test_data.drop(columns=[self.config.target_column], axis=1)\n",
    "        y_test = test_data[self.config.target_column]\n",
    "\n",
    "        # Initialize the ElasticNet model with hyperparameters\n",
    "        lr = ElasticNet(\n",
    "            alpha=self.config.alpha,\n",
    "            l1_ratio=self.config.l1_ratio,\n",
    "            random_state=self.config.random_state\n",
    "        )\n",
    "\n",
    "        # Train the model on the training data\n",
    "        lr.fit(X_train, y_train)\n",
    "\n",
    "        # Save the trained model to a file\n",
    "        model_path = os.path.join(self.config.root_dir, self.config.model_name)\n",
    "        # Save the model using joblib\n",
    "        joblib.dump(lr, model_path)\n",
    "\n",
    "        logger.info(f\"Model trained and saved at: {model_path}\")"
   ]
  },
  {
   "cell_type": "code",
   "execution_count": 22,
   "id": "3dcba424",
   "metadata": {},
   "outputs": [
    {
     "name": "stdout",
     "output_type": "stream",
     "text": [
      "[2025-05-07 00:49:23,500: INFO: common: yaml file: config\\config.yaml loaded successfully]\n",
      "[2025-05-07 00:49:23,503: INFO: common: yaml file: params.yaml loaded successfully]\n",
      "[2025-05-07 00:49:23,508: INFO: common: yaml file: schema.yaml loaded successfully]\n",
      "[2025-05-07 00:49:23,511: INFO: common: created directory at: artifacts]\n",
      "[2025-05-07 00:49:23,533: INFO: 2581246404: Model trained and saved at: artifacts/model_trainer\\model.joblib]\n",
      "Model training completed successfully.\n"
     ]
    }
   ],
   "source": [
    "try:\n",
    "    config = ConfigurationManager()\n",
    "    model_trainer_config = config.get_model_trainer_config()\n",
    "    model_training = ModelTrainer(model_trainer_config)\n",
    "    model_training.train()\n",
    "    print(\"Model training completed successfully.\")\n",
    "except Exception as e:\n",
    "    raise e"
   ]
  },
  {
   "cell_type": "code",
   "execution_count": null,
   "id": "5b399cb4",
   "metadata": {},
   "outputs": [],
   "source": []
  }
 ],
 "metadata": {
  "kernelspec": {
   "display_name": ".venv",
   "language": "python",
   "name": "python3"
  },
  "language_info": {
   "codemirror_mode": {
    "name": "ipython",
    "version": 3
   },
   "file_extension": ".py",
   "mimetype": "text/x-python",
   "name": "python",
   "nbconvert_exporter": "python",
   "pygments_lexer": "ipython3",
   "version": "3.11.2"
  }
 },
 "nbformat": 4,
 "nbformat_minor": 5
}

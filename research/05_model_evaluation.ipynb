{
 "cells": [
  {
   "cell_type": "code",
   "execution_count": 2,
   "id": "024f46cb",
   "metadata": {},
   "outputs": [
    {
     "data": {
      "text/plain": [
       "'f:\\\\My_Design\\\\Data_Science\\\\Data Science\\\\Data Science Notes\\\\Machine Learning\\\\Projects\\\\End-to-End Projects\\\\End-to-End-Machine-Learning-Project-with-Deployment\\\\research'"
      ]
     },
     "execution_count": 2,
     "metadata": {},
     "output_type": "execute_result"
    }
   ],
   "source": [
    "# Library Import\n",
    "\n",
    "import os\n",
    "import sys\n",
    "%pwd"
   ]
  },
  {
   "cell_type": "code",
   "execution_count": 3,
   "id": "19a78385",
   "metadata": {},
   "outputs": [],
   "source": [
    "os.chdir(\"../\")"
   ]
  },
  {
   "cell_type": "code",
   "execution_count": 4,
   "id": "92c8dcfa",
   "metadata": {},
   "outputs": [
    {
     "data": {
      "text/plain": [
       "'f:\\\\My_Design\\\\Data_Science\\\\Data Science\\\\Data Science Notes\\\\Machine Learning\\\\Projects\\\\End-to-End Projects\\\\End-to-End-Machine-Learning-Project-with-Deployment'"
      ]
     },
     "execution_count": 4,
     "metadata": {},
     "output_type": "execute_result"
    }
   ],
   "source": [
    "%pwd"
   ]
  },
  {
   "cell_type": "code",
   "execution_count": null,
   "id": "474a8c15",
   "metadata": {},
   "outputs": [
    {
     "data": {
      "text/html": [
       "<pre style=\"white-space:pre;overflow-x:auto;line-height:normal;font-family:Menlo,'DejaVu Sans Mono',consolas,'Courier New',monospace\">                                       <span style=\"font-weight: bold\">❗❗❗ AUTHORIZATION REQUIRED ❗❗❗</span>                                        \n",
       "</pre>\n"
      ],
      "text/plain": [
       "                                       \u001b[1m❗❗❗ AUTHORIZATION REQUIRED ❗❗❗\u001b[0m                                        \n"
      ]
     },
     "metadata": {},
     "output_type": "display_data"
    },
    {
     "data": {
      "application/vnd.jupyter.widget-view+json": {
       "model_id": "245dc2809fc146daadda07d3cd02302c",
       "version_major": 2,
       "version_minor": 0
      },
      "text/plain": [
       "Output()"
      ]
     },
     "metadata": {},
     "output_type": "display_data"
    }
   ],
   "source": [
    "import dagshub\n",
    "dagshub.init(repo_owner='kunalkalkotwar21', repo_name='End-to-End-Machine-Learning-Project-with-Deployment', mlflow=True)\n",
    "\n",
    "import mlflow\n",
    "with mlflow.start_run():\n",
    "  mlflow.log_param('parameter name', 'value')\n",
    "  mlflow.log_metric('metric name', 1)"
   ]
  },
  {
   "cell_type": "code",
   "execution_count": 5,
   "id": "0994aeef",
   "metadata": {},
   "outputs": [],
   "source": [
    "os.environ['MLFLOW_TRACKING_URI']='https://dagshub.com/kunalkalkotwar21/End-to-End-Machine-Learning-Project-with-Deployment.mlflow'\n",
    "os.environ['MLFLOW_TRACKING_USERNAME']='kunalkalkotwar21'\n",
    "os.environ['MLFLOW_TRACKING_PASSWORD']='e493d450b8e9059d8c01a75ebb5b404bb27528b1'"
   ]
  },
  {
   "cell_type": "code",
   "execution_count": 6,
   "id": "81a205f7",
   "metadata": {},
   "outputs": [],
   "source": [
    "# Perparing the model evaluation entities [config_entity]\n",
    "\n",
    "from dataclasses import dataclass\n",
    "from pathlib import Path\n",
    "\n",
    "# Below is the data class for data Validation configuration\n",
    "# This class is used to define the configuration for data Validation in a machine learning pipeline.\n",
    "@dataclass(frozen=True)\n",
    "class ModelEvaluationConfig:\n",
    "    \"\"\"Model Evaluation Configuration\"\"\"\n",
    "    # Define the attributes of the class\n",
    "    root_dir: Path\n",
    "    model_path: Path\n",
    "    test_data_path: Path\n",
    "    report_path: Path\n",
    "    all_param: dict\n",
    "    target_column: str\n",
    "    mlflow_tracking_uri: str"
   ]
  },
  {
   "cell_type": "code",
   "execution_count": 7,
   "id": "f4cb34e1",
   "metadata": {},
   "outputs": [],
   "source": [
    "from ml_project.constants import *\n",
    "from ml_project.utils.common import read_yaml, create_directories"
   ]
  },
  {
   "cell_type": "code",
   "execution_count": 8,
   "id": "3de2bf42",
   "metadata": {},
   "outputs": [],
   "source": [
    "class ConfigurationManager:\n",
    "    \"\"\"Configuration Manager\"\"\"\n",
    "    def __init__(\n",
    "        self, \n",
    "        config_filepath = CONFIG_FILE_PATH, \n",
    "        params_filepath = PARAMS_FILE_PATH,\n",
    "        schema_filepath = SCHEMA_FILE_PATH):\n",
    "\n",
    "        \"\"\"Initialize Configuration Manager\"\"\"\n",
    "        # Initialize the ConfigurationManager with file paths for configuration, parameters, and schema.\n",
    "        self.config = read_yaml(config_filepath)\n",
    "        self.params = read_yaml(params_filepath)\n",
    "        self.schema = read_yaml(schema_filepath)\n",
    "\n",
    "\n",
    "\n",
    "        # Create directories for artifacts and data ingestion\n",
    "        create_directories([self.config.artifacts_root])  # Create the artifacts root directory\n",
    "\n",
    "    def get_model_evaluation_config(self) -> ModelEvaluationConfig:\n",
    "        \"\"\"Get Model Evaluation Configuration\"\"\"\n",
    "        config = self.config.model_evaluation\n",
    "        params = self.params.ElasticNet\n",
    "        schema = self.schema.TARGET_COLUMN\n",
    "        \n",
    "        model_evaluation_config = ModelEvaluationConfig(\n",
    "            root_dir = config.root_dir,\n",
    "            model_path = config.model_path,\n",
    "            test_data_path = config.test_data_path,\n",
    "            report_path = config.report_path,\n",
    "            all_param = params,\n",
    "            target_column = schema,\n",
    "            mlflow_tracking_uri = 'https://dagshub.com/kunalkalkotwar21/End-to-End-Machine-Learning-Project-with-Deployment.mlflow'\n",
    "            )\n",
    "        \n",
    "        return model_evaluation_config"
   ]
  },
  {
   "cell_type": "code",
   "execution_count": 9,
   "id": "585b506a",
   "metadata": {},
   "outputs": [],
   "source": [
    "import os\n",
    "import numpy as np\n",
    "import pandas\n",
    "from sklearn.metrics import r2_score, mean_squared_error, mean_absolute_error\n",
    "from urllib.parse import urlparse\n",
    "import mlflow\n",
    "import mlflow.sklearn\n",
    "import joblib"
   ]
  },
  {
   "cell_type": "code",
   "execution_count": null,
   "id": "62815f0d",
   "metadata": {},
   "outputs": [],
   "source": [
    "class ModelEvaluation:\n",
    "    \"\"\"Model Evaluation\"\"\"\n",
    "    def __init__(self, config: ModelEvaluationConfig):\n",
    "        \"\"\"Initialize Model Evaluation\"\"\"\n",
    "        self.config = config\n",
    "\n",
    "    def eval_report(self, actual, predict):\n",
    "        \"\"\"Evaluation Report\"\"\"\n",
    "        r2 = r2_score(actual, predict)\n",
    "        rmse = np.sqrt(mean_squared_error(actual, predict))\n",
    "        mae = mean_absolute_error(actual, predict)\n",
    "\n",
    "        return r2, rmse, mae"
   ]
  }
 ],
 "metadata": {
  "kernelspec": {
   "display_name": ".venv",
   "language": "python",
   "name": "python3"
  },
  "language_info": {
   "codemirror_mode": {
    "name": "ipython",
    "version": 3
   },
   "file_extension": ".py",
   "mimetype": "text/x-python",
   "name": "python",
   "nbconvert_exporter": "python",
   "pygments_lexer": "ipython3",
   "version": "3.11.2"
  }
 },
 "nbformat": 4,
 "nbformat_minor": 5
}

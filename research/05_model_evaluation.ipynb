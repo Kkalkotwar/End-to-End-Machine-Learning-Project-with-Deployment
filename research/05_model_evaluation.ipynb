{
 "cells": [
  {
   "cell_type": "code",
   "execution_count": 1,
   "id": "024f46cb",
   "metadata": {},
   "outputs": [
    {
     "data": {
      "text/plain": [
       "'f:\\\\My_Design\\\\Data_Science\\\\Data Science\\\\Data Science Notes\\\\Machine Learning\\\\Projects\\\\End-to-End Projects\\\\End-to-End-Machine-Learning-Project-with-Deployment\\\\research'"
      ]
     },
     "execution_count": 1,
     "metadata": {},
     "output_type": "execute_result"
    }
   ],
   "source": [
    "# Library Import\n",
    "\n",
    "import os\n",
    "import sys\n",
    "%pwd"
   ]
  },
  {
   "cell_type": "code",
   "execution_count": 2,
   "id": "19a78385",
   "metadata": {},
   "outputs": [],
   "source": [
    "os.chdir(\"../\")"
   ]
  },
  {
   "cell_type": "code",
   "execution_count": 3,
   "id": "92c8dcfa",
   "metadata": {},
   "outputs": [
    {
     "data": {
      "text/plain": [
       "'f:\\\\My_Design\\\\Data_Science\\\\Data Science\\\\Data Science Notes\\\\Machine Learning\\\\Projects\\\\End-to-End Projects\\\\End-to-End-Machine-Learning-Project-with-Deployment'"
      ]
     },
     "execution_count": 3,
     "metadata": {},
     "output_type": "execute_result"
    }
   ],
   "source": [
    "%pwd"
   ]
  },
  {
   "cell_type": "code",
   "execution_count": 10,
   "id": "0994aeef",
   "metadata": {},
   "outputs": [],
   "source": [
    "os.environ['MLFLOW_TRACKING_URI']='https://dagshub.com/kunalkalkotwar21/End-to-End-Machine-Learning-Project-with-Deployment.mlflow'\n",
    "os.environ['MLFLOW_TRACKING_USERNAME']='kunalkalkotwar21'\n",
    "os.environ['MLFLOW_TRACKING_PASSWORD']='e493d450b8e9059d8c01a75ebb5b404bb27528b1'"
   ]
  },
  {
   "cell_type": "code",
   "execution_count": 4,
   "id": "81a205f7",
   "metadata": {},
   "outputs": [],
   "source": [
    "# Perparing the model evaluation entities [config_entity]\n",
    "\n",
    "from dataclasses import dataclass\n",
    "from pathlib import Path\n",
    "\n",
    "# Below is the data class for Model Evaluation configuration\n",
    "# This class is used to define the configuration for Model Evaluation in a machine learning pipeline.\n",
    "@dataclass(frozen=True)\n",
    "class ModelEvaluationConfig:\n",
    "    \"\"\"Model Evaluation Configuration\"\"\"\n",
    "    # Define the attributes of the class\n",
    "    root_dir: Path\n",
    "    model_path: Path\n",
    "    test_data_path: Path\n",
    "    report_path: Path\n",
    "    all_param: dict\n",
    "    target_column: str\n",
    "    mlflow_tracking_uri: str"
   ]
  },
  {
   "cell_type": "code",
   "execution_count": 5,
   "id": "f4cb34e1",
   "metadata": {},
   "outputs": [],
   "source": [
    "from ml_project.constants import *\n",
    "from ml_project.utils.common import read_yaml, create_directories, save_json"
   ]
  },
  {
   "cell_type": "code",
   "execution_count": 6,
   "id": "3de2bf42",
   "metadata": {},
   "outputs": [],
   "source": [
    "class ConfigurationManager:\n",
    "    \"\"\"Configuration Manager\"\"\"\n",
    "    def __init__(\n",
    "        self, \n",
    "        config_filepath = CONFIG_FILE_PATH, \n",
    "        params_filepath = PARAMS_FILE_PATH,\n",
    "        schema_filepath = SCHEMA_FILE_PATH):\n",
    "\n",
    "        \"\"\"Initialize Configuration Manager\"\"\"\n",
    "        # Initialize the ConfigurationManager with file paths for configuration, parameters, and schema.\n",
    "        self.config = read_yaml(config_filepath)\n",
    "        self.params = read_yaml(params_filepath)\n",
    "        self.schema = read_yaml(schema_filepath)\n",
    "\n",
    "\n",
    "\n",
    "        # Create directories for artifacts and data ingestion\n",
    "        create_directories([self.config.artifacts_root])  # Create the artifacts root directory\n",
    "\n",
    "    def get_model_evaluation_config(self) -> ModelEvaluationConfig:\n",
    "        \"\"\"Get Model Evaluation Configuration\"\"\"\n",
    "        config = self.config.model_evaluation\n",
    "        params = self.params.ElasticNet\n",
    "        schema = self.schema.TARGET_COLUMN[\"name\"]\n",
    "        \n",
    "        model_evaluation_config = ModelEvaluationConfig(\n",
    "            root_dir = config.root_dir,\n",
    "            model_path = config.model_path,\n",
    "            test_data_path = config.test_data_path,\n",
    "            report_path = config.report_path,\n",
    "            all_param = params,\n",
    "            target_column = schema,\n",
    "            mlflow_tracking_uri = 'https://dagshub.com/kunalkalkotwar21/End-to-End-Machine-Learning-Project-with-Deployment.mlflow'\n",
    "            )\n",
    "        \n",
    "        return model_evaluation_config"
   ]
  },
  {
   "cell_type": "code",
   "execution_count": 7,
   "id": "585b506a",
   "metadata": {},
   "outputs": [],
   "source": [
    "import numpy as np\n",
    "import pandas as pd\n",
    "from sklearn.metrics import r2_score, mean_squared_error, mean_absolute_error\n",
    "from urllib.parse import urlparse\n",
    "import mlflow\n",
    "import joblib"
   ]
  },
  {
   "cell_type": "code",
   "execution_count": 8,
   "id": "62815f0d",
   "metadata": {},
   "outputs": [],
   "source": [
    "class ModelEvaluation:\n",
    "    \"\"\"Model Evaluation\"\"\"\n",
    "    def __init__(self, config: ModelEvaluationConfig):\n",
    "        \"\"\"Initialize Model Evaluation\"\"\"\n",
    "        self.config = config\n",
    "\n",
    "    def eval_report(self, actual, predict):\n",
    "        \"\"\"Evaluation Report\"\"\"\n",
    "        r2 = r2_score(actual, predict)\n",
    "        rmse = np.sqrt(mean_squared_error(actual, predict))\n",
    "        mae = mean_absolute_error(actual, predict)\n",
    "\n",
    "        return r2, rmse, mae\n",
    "    \n",
    "    def log_into_mlflow(self):\n",
    "\n",
    "        test_data = pd.read_csv(self.config.test_data_path)\n",
    "        model = joblib.load(self.config.model_path)\n",
    "        target_column = str(self.config.target_column)\n",
    "\n",
    "        test_x = test_data.drop([target_column], axis=1)\n",
    "        test_y = test_data[[target_column]]\n",
    "\n",
    "        mlflow.set_registry_uri(self.config.mlflow_tracking_uri)\n",
    "        tracking_uri_type_store = urlparse(mlflow.get_tracking_uri()).scheme\n",
    "\n",
    "\n",
    "        with mlflow.start_run():\n",
    "            predicted_quantity = model.predict(test_x)\n",
    "            (r2, rmse, mae) = self.eval_report(test_y, predicted_quantity)\n",
    "            \n",
    "            # Saving matrices as local\n",
    "            scores = {\n",
    "                \"r2\": r2,\n",
    "                \"rmse\": rmse,\n",
    "                \"mae\": mae\n",
    "            }\n",
    "            save_json(path = Path(self.config.report_path), data=scores)\n",
    "\n",
    "            mlflow.log_params(self.config.all_param)\n",
    "            \n",
    "            # Logging metrics into mlflow\n",
    "            mlflow.log_metrics({\n",
    "                \"r2\": r2,\n",
    "                \"rmse\": rmse,\n",
    "                \"mae\": mae\n",
    "            })\n",
    "\n",
    "            # Model registry does not support local filesystem\n",
    "            if tracking_uri_type_store != 'file':\n",
    "\n",
    "                # Register the model in the MLflow Model Registry\n",
    "                # There are other ways to use the Model Registry, which depends on the use case.\n",
    "                # Please refer to the MLflow documentation for more details.\n",
    "                # https://www.mlflow.org/docs/latest/model-registry.html#registering-a-model\n",
    "                mlflow.sklearn.log_model(model, \"model\", registered_model_name=\"ElasticNetModel\")\n",
    "            else:\n",
    "                mlflow.sklearn.log_model(model, \"model\")        "
   ]
  },
  {
   "cell_type": "code",
   "execution_count": 11,
   "id": "2652b66d",
   "metadata": {},
   "outputs": [
    {
     "name": "stdout",
     "output_type": "stream",
     "text": [
      "[2025-05-10 00:31:32,843: INFO: common: yaml file: config\\config.yaml loaded successfully]\n",
      "[2025-05-10 00:31:32,847: INFO: common: yaml file: params.yaml loaded successfully]\n",
      "[2025-05-10 00:31:32,855: INFO: common: yaml file: schema.yaml loaded successfully]\n",
      "[2025-05-10 00:31:32,859: INFO: common: created directory at: artifacts]\n",
      "[2025-05-10 00:31:33,523: INFO: common: json file saved at: artifacts\\model_evaluation\\report.json]\n"
     ]
    },
    {
     "name": "stderr",
     "output_type": "stream",
     "text": [
      "2025/05/10 00:31:41 WARNING mlflow.models.model: Model logged without a signature and input example. Please set `input_example` parameter when logging the model to auto infer the model signature.\n",
      "Registered model 'ElasticNetModel' already exists. Creating a new version of this model...\n",
      "2025/05/10 00:31:45 INFO mlflow.store.model_registry.abstract_store: Waiting up to 300 seconds for model version to finish creation. Model name: ElasticNetModel, version 6\n",
      "Created version '6' of model 'ElasticNetModel'.\n"
     ]
    },
    {
     "name": "stdout",
     "output_type": "stream",
     "text": [
      "🏃 View run shivering-skink-213 at: https://dagshub.com/kunalkalkotwar21/End-to-End-Machine-Learning-Project-with-Deployment.mlflow/#/experiments/0/runs/ceb2d25fa952447f9773b50717b5be49\n",
      "🧪 View experiment at: https://dagshub.com/kunalkalkotwar21/End-to-End-Machine-Learning-Project-with-Deployment.mlflow/#/experiments/0\n",
      "Model evaluation completed successfully.\n"
     ]
    }
   ],
   "source": [
    "try:\n",
    "    config = ConfigurationManager()\n",
    "    model_evaluation_config = config.get_model_evaluation_config()\n",
    "    model_evaluation = ModelEvaluation(model_evaluation_config)\n",
    "    model_evaluation.log_into_mlflow()\n",
    "    print(\"Model evaluation completed successfully.\")\n",
    "except Exception as e:\n",
    "    raise e"
   ]
  },
  {
   "cell_type": "code",
   "execution_count": null,
   "id": "f58328f2",
   "metadata": {},
   "outputs": [],
   "source": []
  }
 ],
 "metadata": {
  "kernelspec": {
   "display_name": ".venv",
   "language": "python",
   "name": "python3"
  },
  "language_info": {
   "codemirror_mode": {
    "name": "ipython",
    "version": 3
   },
   "file_extension": ".py",
   "mimetype": "text/x-python",
   "name": "python",
   "nbconvert_exporter": "python",
   "pygments_lexer": "ipython3",
   "version": "3.11.2"
  }
 },
 "nbformat": 4,
 "nbformat_minor": 5
}
